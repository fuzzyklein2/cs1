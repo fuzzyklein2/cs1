{
 "cells": [
  {
   "cell_type": "markdown",
   "id": "ce8a93dc",
   "metadata": {},
   "source": [
    "# References"
   ]
  },
  {
   "cell_type": "markdown",
   "id": "1b8dc40c",
   "metadata": {},
   "source": [
    "## R"
   ]
  },
  {
   "cell_type": "code",
   "execution_count": null,
   "id": "71a3e73b",
   "metadata": {},
   "outputs": [],
   "source": []
  },
  {
   "cell_type": "markdown",
   "id": "23c4c4c4",
   "metadata": {},
   "source": [
    "## Python"
   ]
  },
  {
   "cell_type": "markdown",
   "id": "022abc7a",
   "metadata": {},
   "source": [
    "[Python Documentation](https://docs.python.org/3/)"
   ]
  },
  {
   "cell_type": "markdown",
   "id": "d41c1d28-1b40-4ce7-86a8-e0bd9566e70b",
   "metadata": {},
   "source": [
    "[GitHub CLI](https://cli.github.com/manual/)"
   ]
  },
  {
   "cell_type": "code",
   "execution_count": 2,
   "id": "2eab6173",
   "metadata": {},
   "outputs": [
    {
     "data": {
      "text/plain": [
       "16.825"
      ]
     },
     "execution_count": 2,
     "metadata": {},
     "output_type": "execute_result"
    }
   ],
   "source": [
    "673 / 40"
   ]
  },
  {
   "cell_type": "markdown",
   "id": "3f6cd23f-cd4f-4408-a198-48eb1eaf1672",
   "metadata": {},
   "source": [
    "## Tools"
   ]
  },
  {
   "cell_type": "markdown",
   "id": "8bee5ee3-e3c3-4cd1-9213-823f4437571b",
   "metadata": {},
   "source": [
    "[Tika](https://tika.apache.org/)"
   ]
  },
  {
   "cell_type": "code",
   "execution_count": null,
   "id": "eddd6e23-673c-4adc-84d5-655e1e962636",
   "metadata": {},
   "outputs": [],
   "source": []
  }
 ],
 "metadata": {
  "kernelspec": {
   "display_name": "Python 3 (ipykernel)",
   "language": "python",
   "name": "python3"
  },
  "language_info": {
   "codemirror_mode": {
    "name": "ipython",
    "version": 3
   },
   "file_extension": ".py",
   "mimetype": "text/x-python",
   "name": "python",
   "nbconvert_exporter": "python",
   "pygments_lexer": "ipython3",
   "version": "3.10.0"
  }
 },
 "nbformat": 4,
 "nbformat_minor": 5
}
